{
 "cells": [
  {
   "cell_type": "code",
   "execution_count": 2,
   "id": "097797a6",
   "metadata": {},
   "outputs": [],
   "source": [
    "def prashant():\n",
    " for i in range(5):\n",
    "    print(\"ok\")\n",
    "\n",
    " "
   ]
  },
  {
   "cell_type": "code",
   "execution_count": 3,
   "id": "cadfd236",
   "metadata": {},
   "outputs": [],
   "source": [
    "prashant()"
   ]
  },
  {
   "cell_type": "code",
   "execution_count": 4,
   "id": "cc629834",
   "metadata": {},
   "outputs": [],
   "source": [
    "def prashant():\n",
    " for i in range(2):\n",
    "    print(\"ok\")\n",
    "\n",
    " "
   ]
  },
  {
   "cell_type": "code",
   "execution_count": 5,
   "id": "c5818755",
   "metadata": {},
   "outputs": [],
   "source": [
    "prashant()"
   ]
  },
  {
   "cell_type": "code",
   "execution_count": 6,
   "id": "c9528d99",
   "metadata": {},
   "outputs": [],
   "source": [
    "def prashant2(a):\n",
    " for i in range(a):\n",
    "    print(\"ok\")\n",
    "\n",
    " "
   ]
  },
  {
   "cell_type": "code",
   "execution_count": 7,
   "id": "1ce90860",
   "metadata": {},
   "outputs": [],
   "source": [
    "prashant2(4)"
   ]
  },
  {
   "cell_type": "code",
   "execution_count": 8,
   "id": "eac37c1f",
   "metadata": {},
   "outputs": [],
   "source": [
    "prashant(9)"
   ]
  },
  {
   "cell_type": "code",
   "execution_count": null,
   "id": "2b6726ce",
   "metadata": {},
   "outputs": [],
   "source": [
    "def prashant2(a):\n",
    "    if type(a)==str:\n",
    "        print(\"invalid argument\")\n",
    "    else:        \n",
    "         for i in range(a):\n",
    "            print(\"ok\")\n",
    "\n",
    " "
   ]
  },
  {
   "cell_type": "code",
   "execution_count": null,
   "id": "b506ce43",
   "metadata": {},
   "outputs": [],
   "source": [
    "prashant2(\"lts go\")"
   ]
  },
  {
   "cell_type": "code",
   "execution_count": null,
   "id": "f114bb9a",
   "metadata": {},
   "outputs": [],
   "source": [
    "def prashant2(a):\n",
    "    if type(a)==str:\n",
    "        print(\"invalid argument\")\n",
    "    else:        \n",
    "        print(\"its right \")\n",
    "    for i in range(a):\n",
    "                print(\"ok\")\n",
    "\n",
    " "
   ]
  },
  {
   "cell_type": "code",
   "execution_count": null,
   "id": "79d05c31",
   "metadata": {},
   "outputs": [],
   "source": [
    "prashant(\"its not service\")"
   ]
  },
  {
   "cell_type": "code",
   "execution_count": null,
   "id": "aee2fd6a",
   "metadata": {},
   "outputs": [],
   "source": [
    "def intro():\n",
    "    print(\"i am prashant\")\n",
    "    print(\"An data scienlist\")\n",
    "    "
   ]
  },
  {
   "cell_type": "code",
   "execution_count": null,
   "id": "4848249b",
   "metadata": {},
   "outputs": [],
   "source": [
    "intro()"
   ]
  },
  {
   "cell_type": "code",
   "execution_count": null,
   "id": "465bbcdc",
   "metadata": {},
   "outputs": [],
   "source": [
    "def intro(a):\n",
    "    print(\"i am prashant\")\n",
    "    print(\"An data scienlist\")\n",
    "    "
   ]
  },
  {
   "cell_type": "code",
   "execution_count": null,
   "id": "f8863656",
   "metadata": {},
   "outputs": [],
   "source": [
    "intro(\"affection\")"
   ]
  },
  {
   "cell_type": "code",
   "execution_count": null,
   "id": "05a33e23",
   "metadata": {},
   "outputs": [],
   "source": [
    "def intro ( name,designation):\n",
    "    print(\"i am {}\".format(name))\n",
    "    print(f\" An {designation}\")"
   ]
  },
  {
   "cell_type": "code",
   "execution_count": null,
   "id": "7b243a92",
   "metadata": {},
   "outputs": [],
   "source": []
  },
  {
   "cell_type": "code",
   "execution_count": null,
   "id": "4fb45cac",
   "metadata": {},
   "outputs": [],
   "source": [
    "def intro ( name,designation):\n",
    "    print(\"i am {}\".format(name))\n",
    "    print(f\" An {designation}\")"
   ]
  },
  {
   "cell_type": "code",
   "execution_count": null,
   "id": "c9a251a9",
   "metadata": {},
   "outputs": [],
   "source": [
    "intro(\"prashant\",\"ds\")"
   ]
  },
  {
   "cell_type": "code",
   "execution_count": null,
   "id": "43e564e3",
   "metadata": {},
   "outputs": [],
   "source": [
    "intro(\"kaliya\",\"fs\")"
   ]
  },
  {
   "cell_type": "code",
   "execution_count": null,
   "id": "678925e9",
   "metadata": {},
   "outputs": [],
   "source": [
    "intro()"
   ]
  },
  {
   "cell_type": "code",
   "execution_count": null,
   "id": "3217767b",
   "metadata": {},
   "outputs": [],
   "source": [
    "#postinal argument \n",
    "def intro ( name,designation=\"cyber\"):\n",
    "    print(\"i am {}\".format(name))\n",
    "    print(f\" An {designation}\")"
   ]
  },
  {
   "cell_type": "code",
   "execution_count": null,
   "id": "8dfedc94",
   "metadata": {},
   "outputs": [],
   "source": [
    "intro(\"shikar\")"
   ]
  },
  {
   "cell_type": "code",
   "execution_count": null,
   "id": "f9f00af2",
   "metadata": {},
   "outputs": [],
   "source": [
    "intro(\"shikar\",\"fs\")"
   ]
  },
  {
   "cell_type": "code",
   "execution_count": null,
   "id": "5adeb72f",
   "metadata": {},
   "outputs": [],
   "source": [
    " intro (\"will\",\"marking\")"
   ]
  },
  {
   "cell_type": "code",
   "execution_count": null,
   "id": "1e85b9d8",
   "metadata": {},
   "outputs": [],
   "source": [
    "  def intro3 ( name=\"sikhar\" ,designation=\"data scienlist\"):\n",
    "    print(\"i am {}\".format(name))\n",
    "    print(f\" An {designation}\")"
   ]
  },
  {
   "cell_type": "raw",
   "id": "0632dafd",
   "metadata": {},
   "source": [
    "intro3()"
   ]
  },
  {
   "cell_type": "code",
   "execution_count": null,
   "id": "6ac31fd6",
   "metadata": {},
   "outputs": [],
   "source": [
    "ibm(\"prashant\",\"ds\")"
   ]
  },
  {
   "cell_type": "code",
   "execution_count": 17,
   "id": "7cc5054b",
   "metadata": {},
   "outputs": [],
   "source": [
    "ibm()"
   ]
  },
  {
   "cell_type": "code",
   "execution_count": 18,
   "id": "b4663a18",
   "metadata": {},
   "outputs": [],
   "source": [
    "def will(a,b):\n",
    "a=input(\"enter the number\")\n",
    "b=input(\"enter the second number\")\n",
    "\n",
    "    \n"
   ]
  },
  {
   "cell_type": "code",
   "execution_count": null,
   "id": "6fc05f56",
   "metadata": {},
   "outputs": [],
   "source": []
  },
  {
   "cell_type": "code",
   "execution_count": 16,
   "id": "91e3ac58",
   "metadata": {},
   "outputs": [],
   "source": [
    "def intro ( name,designation):\n",
    "    return(name,designation)\n",
    "name=eval(input(\"enter the name:\")\n",
    "          print(\"ol\")\n",
    "designation=eval(\"input\"(\"enter the designation:\")"
   ]
  },
  {
   "cell_type": "raw",
   "id": "2093005d",
   "metadata": {},
   "source": [
    "intro()"
   ]
  },
  {
   "cell_type": "code",
   "execution_count": null,
   "id": "2fb10d57",
   "metadata": {},
   "outputs": [],
   "source": []
  },
  {
   "cell_type": "code",
   "execution_count": null,
   "id": "b9427065",
   "metadata": {},
   "outputs": [],
   "source": []
  },
  {
   "cell_type": "code",
   "execution_count": null,
   "id": "675a92f5",
   "metadata": {},
   "outputs": [],
   "source": []
  },
  {
   "cell_type": "code",
   "execution_count": null,
   "id": "1c735688",
   "metadata": {},
   "outputs": [],
   "source": []
  },
  {
   "cell_type": "code",
   "execution_count": null,
   "id": "ea038942",
   "metadata": {},
   "outputs": [],
   "source": []
  },
  {
   "cell_type": "code",
   "execution_count": null,
   "id": "6e726967",
   "metadata": {},
   "outputs": [],
   "source": []
  },
  {
   "cell_type": "code",
   "execution_count": null,
   "id": "c43d4393",
   "metadata": {},
   "outputs": [],
   "source": []
  },
  {
   "cell_type": "code",
   "execution_count": null,
   "id": "487343fc",
   "metadata": {},
   "outputs": [],
   "source": []
  },
  {
   "cell_type": "code",
   "execution_count": null,
   "id": "263233a8",
   "metadata": {},
   "outputs": [],
   "source": []
  },
  {
   "cell_type": "code",
   "execution_count": null,
   "id": "9ed2c899",
   "metadata": {},
   "outputs": [],
   "source": []
  },
  {
   "cell_type": "code",
   "execution_count": null,
   "id": "d6a22956",
   "metadata": {},
   "outputs": [],
   "source": []
  },
  {
   "cell_type": "code",
   "execution_count": null,
   "id": "75320691",
   "metadata": {},
   "outputs": [],
   "source": []
  },
  {
   "cell_type": "code",
   "execution_count": null,
   "id": "6fc0cd31",
   "metadata": {},
   "outputs": [],
   "source": []
  }
 ],
 "metadata": {
  "kernelspec": {
   "display_name": "Python 3 (ipykernel)",
   "language": "python",
   "name": "python3"
  },
  "language_info": {
   "codemirror_mode": {
    "name": "ipython",
    "version": 3
   },
   "file_extension": ".py",
   "mimetype": "text/x-python",
   "name": "python",
   "nbconvert_exporter": "python",
   "pygments_lexer": "ipython3",
   "version": "3.11.4"
  }
 },
 "nbformat": 4,
 "nbformat_minor": 5
}
