{
 "cells": [
  {
   "cell_type": "code",
   "execution_count": 33,
   "metadata": {},
   "outputs": [
    {
     "name": "stdout",
     "output_type": "stream",
     "text": [
      "prashant\n",
      "error\n"
     ]
    }
   ],
   "source": [
    "try:\n",
    " a=int(input(\"enter the number\"))\n",
    " print(a/0)\n",
    " \n",
    "except:\n",
    "   print (\"prashant\")\n",
    "    \n",
    "print(\"error\")  "
   ]
  },
  {
   "cell_type": "code",
   "execution_count": 46,
   "metadata": {},
   "outputs": [
    {
     "name": "stdout",
     "output_type": "stream",
     "text": [
      "none of the value disvisble by 0 division by zero\n",
      "error\n"
     ]
    }
   ],
   "source": [
    "try:\n",
    "   a=int(input(\"enter the number\"))\n",
    "   print(a/0)\n",
    "except  ZeroDivisionError  as e:\n",
    "   print (\"none of the value disvisble by 0\",e)\n",
    "    \n",
    "print(\"error\")  "
   ]
  },
  {
   "cell_type": "code",
   "execution_count": 51,
   "metadata": {},
   "outputs": [
    {
     "name": "stdout",
     "output_type": "stream",
     "text": [
      "string canoot convert into int\n",
      "error\n"
     ]
    }
   ],
   "source": [
    "try:\n",
    "   a=int(input(\"enter the number\"))\n",
    "   print(a/0)\n",
    "except  ZeroDivisionError  as e:\n",
    "   print (\"none of the value disvisble by 0\",e)\n",
    "except ValueError:\n",
    "    print(\"string canoot convert into int\")   \n",
    "    \n",
    "print(\"error\")  "
   ]
  },
  {
   "cell_type": "code",
   "execution_count": 54,
   "metadata": {},
   "outputs": [
    {
     "name": "stdout",
     "output_type": "stream",
     "text": [
      "out of service\n",
      "error\n"
     ]
    }
   ],
   "source": [
    "try:\n",
    "   a=int(input(\"enter the number\"))\n",
    "   print(a/0)\n",
    "#except  ZeroDivisionError  as e:\n",
    "   #print (\"none of the value disvisble by 0\",e)\n",
    "#except ValueError:\n",
    "    #print(\"string canoot convert into int\")  \n",
    "except Exception:\n",
    "    print(\"out of service\")     \n",
    "    \n",
    "print(\"error\")  "
   ]
  },
  {
   "cell_type": "code",
   "execution_count": 12,
   "metadata": {},
   "outputs": [
    {
     "name": "stdout",
     "output_type": "stream",
     "text": [
      "enter the number10\n"
     ]
    },
    {
     "ename": "Exception",
     "evalue": "THIS IS AN ERROR",
     "output_type": "error",
     "traceback": [
      "\u001b[1;31m---------------------------------------------------------------------------\u001b[0m",
      "\u001b[1;31mException\u001b[0m                                 Traceback (most recent call last)",
      "Cell \u001b[1;32mIn[12], line 4\u001b[0m\n\u001b[0;32m      2\u001b[0m     a\u001b[38;5;241m=\u001b[39m\u001b[38;5;28mint\u001b[39m(\u001b[38;5;28minput\u001b[39m(\u001b[38;5;124m\"\u001b[39m\u001b[38;5;124menter the number\u001b[39m\u001b[38;5;124m\"\u001b[39m))\n\u001b[0;32m      3\u001b[0m     \u001b[38;5;28;01mif\u001b[39;00m a\u001b[38;5;241m==\u001b[39m\u001b[38;5;241m10\u001b[39m:\n\u001b[1;32m----> 4\u001b[0m         \u001b[38;5;28;01mraise\u001b[39;00m \u001b[38;5;167;01mException\u001b[39;00m (\u001b[38;5;124m\"\u001b[39m\u001b[38;5;124mTHIS IS AN ERROR\u001b[39m\u001b[38;5;124m\"\u001b[39m)\n\u001b[0;32m      5\u001b[0m \u001b[38;5;28;01mexcept\u001b[39;00m  \u001b[38;5;167;01mZeroDivisionError\u001b[39;00m  \u001b[38;5;28;01mas\u001b[39;00m e:\n\u001b[0;32m      6\u001b[0m      \u001b[38;5;28mprint\u001b[39m (\u001b[38;5;124m\"\u001b[39m\u001b[38;5;124mnone of the value disvisble by 0\u001b[39m\u001b[38;5;124m\"\u001b[39m,e)\n",
      "\u001b[1;31mException\u001b[0m: THIS IS AN ERROR"
     ]
    }
   ],
   "source": [
    "try:\n",
    "    a=int(input(\"enter the number\"))\n",
    "    if a==10:\n",
    "        raise Exception (\"THIS IS AN ERROR\")\n",
    "except  ZeroDivisionError  as e:\n",
    "     print (\"none of the value disvisble by 0\",e)\n",
    "except ValueError:\n",
    "    print(\"string  convert into int\")  \n",
    "else:\n",
    "     print(\"welcome to sbi bank\")       \n",
    "    \n",
    "print(\"error\")  "
   ]
  },
  {
   "cell_type": "code",
   "execution_count": 9,
   "metadata": {},
   "outputs": [
    {
     "name": "stdout",
     "output_type": "stream",
     "text": [
      "enter the number >>>>.prashnat\n",
      "string cannot convert into int\n",
      "out service \n"
     ]
    }
   ],
   "source": [
    "try:\n",
    "      b=int(input(\"enter the number >>>>.\"))\n",
    "except ZeroDivisionError as e:\n",
    "     print(\"none of the values disvisble by 0 \",e)\n",
    "        \n",
    "except ValueError:\n",
    "    print(\"string cannot convert into int\")\n",
    "finally:\n",
    "    print(\"out service \")\n",
    "\n",
    "    \n"
   ]
  },
  {
   "cell_type": "code",
   "execution_count": null,
   "metadata": {},
   "outputs": [],
   "source": []
  },
  {
   "cell_type": "code",
   "execution_count": null,
   "metadata": {},
   "outputs": [],
   "source": []
  }
 ],
 "metadata": {
  "kernelspec": {
   "display_name": "Python 3 (ipykernel)",
   "language": "python",
   "name": "python3"
  },
  "language_info": {
   "codemirror_mode": {
    "name": "ipython",
    "version": 3
   },
   "file_extension": ".py",
   "mimetype": "text/x-python",
   "name": "python",
   "nbconvert_exporter": "python",
   "pygments_lexer": "ipython3",
   "version": "3.11.4"
  }
 },
 "nbformat": 4,
 "nbformat_minor": 2
}
