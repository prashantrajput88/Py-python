{
 "cells": [
  {
   "cell_type": "code",
   "execution_count": 59,
   "metadata": {},
   "outputs": [],
   "source": [
    "a=eval(input(\"enter the  first the  value \"))\n",
    "b=eval(input(\"enter the second the value\"))\n",
    "if a<b:\n",
    "   print(b-a)\n",
    "else:\n",
    "    print(a-b)"
   ]
  },
  {
   "cell_type": "code",
   "execution_count": null,
   "metadata": {},
   "outputs": [
    {
     "name": "stdout",
     "output_type": "stream",
     "text": [
      "hello\n"
     ]
    }
   ],
   "source": [
    "if 10<40:\n",
    "    print(\"hello\")\n",
    "elif 30<20:\n",
    "    print(\"bye\")     "
   ]
  },
  {
   "cell_type": "code",
   "execution_count": 6,
   "metadata": {},
   "outputs": [
    {
     "name": "stdout",
     "output_type": "stream",
     "text": [
      "acha\n"
     ]
    }
   ],
   "source": [
    "if 10==67:\n",
    "    print(\"chl na \")\n",
    "elif 30<=22:\n",
    "    print(\"bade harami ho \") \n",
    "else:\n",
    "    print(\"acha\")       \n"
   ]
  },
  {
   "cell_type": "code",
   "execution_count": 7,
   "metadata": {},
   "outputs": [
    {
     "ename": "SyntaxError",
     "evalue": "invalid syntax (3431362059.py, line 1)",
     "output_type": "error",
     "traceback": [
      "\u001b[1;36m  Cell \u001b[1;32mIn[7], line 1\u001b[1;36m\u001b[0m\n\u001b[1;33m    elif 30<=22:\u001b[0m\n\u001b[1;37m    ^\u001b[0m\n\u001b[1;31mSyntaxError\u001b[0m\u001b[1;31m:\u001b[0m invalid syntax\n"
     ]
    }
   ],
   "source": [
    "\n",
    "elif 30<=2\n",
    "     print(\"bade harami ho \") \n",
    "else:\n",
    "    print(\"acha\") "
   ]
  },
  {
   "cell_type": "code",
   "execution_count": 10,
   "metadata": {},
   "outputs": [
    {
     "name": "stdout",
     "output_type": "stream",
     "text": [
      "acha\n"
     ]
    }
   ],
   "source": [
    "\n",
    "\n",
    "if 10==67:\n",
    "    print(\"chl na \")\n",
    "else:\n",
    "    print(\"acha\")"
   ]
  },
  {
   "cell_type": "code",
   "execution_count": 12,
   "metadata": {},
   "outputs": [
    {
     "name": "stdout",
     "output_type": "stream",
     "text": [
      "chl na \n"
     ]
    }
   ],
   "source": [
    "\n",
    "\n",
    "if 10<67:\n",
    "    print(\"chl na \")\n",
    "          "
   ]
  },
  {
   "cell_type": "code",
   "execution_count": 23,
   "metadata": {},
   "outputs": [
    {
     "name": "stdout",
     "output_type": "stream",
     "text": [
      "acha\n"
     ]
    }
   ],
   "source": [
    "if 10<1:\n",
    "    print(\"chl na \")\n",
    "    if 7<6:\n",
    "        print(\"ok\")\n",
    "        if 60>40:\n",
    "            print(\"hume sikha riyya\")\n",
    "elif 30<=22:\n",
    "    print(\"bade harami ho \") \n",
    "else:\n",
    "    print(\"acha\")       "
   ]
  },
  {
   "cell_type": "code",
   "execution_count": 53,
   "metadata": {},
   "outputs": [
    {
     "ename": "SyntaxError",
     "evalue": "invalid syntax (2826986866.py, line 11)",
     "output_type": "error",
     "traceback": [
      "\u001b[1;36m  Cell \u001b[1;32mIn[53], line 11\u001b[1;36m\u001b[0m\n\u001b[1;33m    else:\u001b[0m\n\u001b[1;37m    ^\u001b[0m\n\u001b[1;31mSyntaxError\u001b[0m\u001b[1;31m:\u001b[0m invalid syntax\n"
     ]
    }
   ],
   "source": [
    "if 10<10:\n",
    "    print(\"chl na \")\n",
    "    if 7>6:\n",
    "        print(\"ok\")\n",
    "        if 60==60:\n",
    "            print(\"hume sikha riyya\")\n",
    "    else:\n",
    "     print(\"prashant\")\n",
    "elif 30<=22:\n",
    "    print(\"bade harami ho \")   \n",
    "    else:\n",
    "        print(\"abe chl na\")    "
   ]
  },
  {
   "cell_type": "code",
   "execution_count": 31,
   "metadata": {},
   "outputs": [
    {
     "name": "stdout",
     "output_type": "stream",
     "text": [
      "hume sikha riyya\n"
     ]
    }
   ],
   "source": [
    "if 10<10:\n",
    "    print(\"chl na \")\n",
    "    if 7>6:\n",
    "        pass\n",
    "if 60==60:\n",
    "                        print(\"hume sikha riyya\")\n",
    "elif 30<=22:\n",
    "      print(\"bade harami ho \")   \n",
    "else:\n",
    "    print(\"acha\")    "
   ]
  },
  {
   "cell_type": "code",
   "execution_count": 33,
   "metadata": {},
   "outputs": [
    {
     "ename": "IndentationError",
     "evalue": "unindent does not match any outer indentation level (<tokenize>, line 3)",
     "output_type": "error",
     "traceback": [
      "\u001b[1;36m  File \u001b[1;32m<tokenize>:3\u001b[1;36m\u001b[0m\n\u001b[1;33m    if 7>6:\u001b[0m\n\u001b[1;37m    ^\u001b[0m\n\u001b[1;31mIndentationError\u001b[0m\u001b[1;31m:\u001b[0m unindent does not match any outer indentation level\n"
     ]
    }
   ],
   "source": [
    "if 10<10:\n",
    "                           print(\"chl na \")\n",
    "    if 7>6:\n",
    "        pass\n",
    "if 60==60:\n",
    "                         print(\"hume sikha riyya\")\n",
    "elif 30<=22:\n",
    "      print(\"bade harami ho \")   \n",
    "else:\n",
    "    print(\"acha\")    "
   ]
  },
  {
   "cell_type": "code",
   "execution_count": 59,
   "metadata": {},
   "outputs": [
    {
     "name": "stdout",
     "output_type": "stream",
     "text": [
      "abe yar\n"
     ]
    }
   ],
   "source": [
    "if 10==0:\n",
    "   print(\"chl na \")\n",
    "   if 1>6:\n",
    "    pass\n",
    "else:\n",
    "  print(\"abe yar\")\n",
    "  \n",
    "if 608<60:\n",
    "  print(\"hume sikha riyya\")\n",
    "elif 30<=22:\n",
    "   print(\"bade harami ho \")   "
   ]
  },
  {
   "cell_type": "code",
   "execution_count": 81,
   "metadata": {},
   "outputs": [
    {
     "name": "stdout",
     "output_type": "stream",
     "text": [
      "{'my is name is prashant rajput \\n         my is hobbies is \\n          my bike rider \\n          photoshot\\n           and edit'}\n"
     ]
    }
   ],
   "source": [
    "if 15==10:\n",
    "   print(\"chl na \")\n",
    "   if 1>6:\n",
    "    pass\n",
    "else:\n",
    "  print({'''my is name is prashant rajput \n",
    "         my is hobbies is \n",
    "          my bike rider \n",
    "          photoshot\n",
    "           and edit'''})\n",
    "  \n",
    "if 608<60:\n",
    "  print(\"hume sikha riyya\")\n",
    "elif 30<=22:\n",
    "   print(\"bade harami ho \")   "
   ]
  },
  {
   "cell_type": "code",
   "execution_count": 82,
   "metadata": {},
   "outputs": [
    {
     "name": "stdout",
     "output_type": "stream",
     "text": [
      "{'my is name is prashant rajput \\n                my is hobbie my bike rider photoshot and edit'}\n"
     ]
    }
   ],
   "source": [
    "if 15==10:\n",
    "   print(\"chl na \")\n",
    "   if 1>6:\n",
    "    pass\n",
    "else:\n",
    "  print({'''my is name is prashant rajput \n",
    "                my is hobbie my bike rider photoshot and edit'''})\n",
    "  \n",
    "if 608<60:\n",
    "  print(\"hume sikha riyya\")\n",
    "elif 30<=22:\n",
    "   print(\"bade harami ho \")   \n"
   ]
  },
  {
   "cell_type": "code",
   "execution_count": 36,
   "metadata": {},
   "outputs": [
    {
     "name": "stdout",
     "output_type": "stream",
     "text": [
      "enter salary\n",
      "enter year of service\n"
     ]
    },
    {
     "ename": "TypeError",
     "evalue": "'>' not supported between instances of 'str' and 'int'",
     "output_type": "error",
     "traceback": [
      "\u001b[1;31m---------------------------------------------------------------------------\u001b[0m",
      "\u001b[1;31mTypeError\u001b[0m                                 Traceback (most recent call last)",
      "Cell \u001b[1;32mIn[36], line 5\u001b[0m\n\u001b[0;32m      3\u001b[0m \u001b[39mprint\u001b[39m (\u001b[39m\"\u001b[39m\u001b[39menter year of service\u001b[39m\u001b[39m\"\u001b[39m)\n\u001b[0;32m      4\u001b[0m yos \u001b[39m=\u001b[39m \u001b[39minput\u001b[39m()\n\u001b[1;32m----> 5\u001b[0m \u001b[39mif\u001b[39;00m yos\u001b[39m>\u001b[39;49m\u001b[39m5\u001b[39;49m:\n\u001b[0;32m      6\u001b[0m     \u001b[39mprint\u001b[39m (\u001b[39m\"\u001b[39m\u001b[39mbous is\u001b[39m\u001b[39m\"\u001b[39m,\u001b[39m.50\u001b[39m\u001b[39m*\u001b[39msalary)\n\u001b[0;32m      7\u001b[0m \u001b[39melse\u001b[39;00m:\n",
      "\u001b[1;31mTypeError\u001b[0m: '>' not supported between instances of 'str' and 'int'"
     ]
    }
   ],
   "source": [
    "print(\"enter salary\")\n",
    "salary = input()\n",
    "print (\"enter year of service\")\n",
    "yos = input()\n",
    "if yos>5:\n",
    "    print (\"bous is\",.50*salary)\n",
    "else:\n",
    "    print (\"no boues\")"
   ]
  },
  {
   "cell_type": "code",
   "execution_count": 65,
   "metadata": {},
   "outputs": [
    {
     "name": "stdout",
     "output_type": "stream",
     "text": [
      "18 year boy allow phone\n"
     ]
    }
   ],
   "source": [
    "a= (input(\" enter the number \"))\n",
    "b=(input(\" enter the second number\"))\n",
    " \n",
    "if a<b and a>b:      #### AND\n",
    "   \n",
    "   print(\"phone\")\n",
    "   print ( \"5 year children no allow danger \")\n",
    "else:\n",
    "    print(\"18 year boy allow phone\")\n",
    "    "
   ]
  },
  {
   "cell_type": "code",
   "execution_count": 22,
   "metadata": {},
   "outputs": [
    {
     "ename": "SyntaxError",
     "evalue": "unmatched ']' (1175410786.py, line 6)",
     "output_type": "error",
     "traceback": [
      "\u001b[1;36m  Cell \u001b[1;32mIn[22], line 6\u001b[1;36m\u001b[0m\n\u001b[1;33m    print ( \"5 year children no allow danger \")]\u001b[0m\n\u001b[1;37m                                               ^\u001b[0m\n\u001b[1;31mSyntaxError\u001b[0m\u001b[1;31m:\u001b[0m unmatched ']'\n"
     ]
    }
   ],
   "source": [
    "a= (input(\" enter the number \"))\n",
    "b=(input(\" enter the second number\"))\n",
    " \n",
    "if a>b or a<b:        ###OR\n",
    "   print(\"phone\")\n",
    "   print ( \"5 year children no allow danger \")]\n",
    "else:\n",
    "    print(\"18 year boy allow phone\")\n",
    "    "
   ]
  },
  {
   "cell_type": "code",
   "execution_count": 2,
   "metadata": {},
   "outputs": [
    {
     "name": "stdout",
     "output_type": "stream",
     "text": [
      "phone\n",
      "5 year children no allow danger \n"
     ]
    }
   ],
   "source": [
    "a= (input(\" enter the number \"))\n",
    "b=(input(\" enter the second number\"))\n",
    " \n",
    "if a>b:  ###OR\n",
    "   print(\"phone\")\n",
    "   print ( \"5 year children no allow danger \")\n",
    "else:\n",
    "    print(\"18 year boy allow phone\")"
   ]
  },
  {
   "cell_type": "code",
   "execution_count": 4,
   "metadata": {},
   "outputs": [
    {
     "name": "stdout",
     "output_type": "stream",
     "text": [
      "18 year boy allow phone\n"
     ]
    }
   ],
   "source": [
    "a= (input(\" enter the number \"))\n",
    "b=(input(\" enter the second number\"))\n",
    " \n",
    "if a>b and a<b:        ###OR\n",
    "   print ( \"5 year children  PHONE no allow danger \")\n",
    "else:\n",
    "    print(\"18 year boy allow phone\")"
   ]
  },
  {
   "cell_type": "code",
   "execution_count": 6,
   "metadata": {},
   "outputs": [
    {
     "name": "stdout",
     "output_type": "stream",
     "text": [
      "18 year boy allow phone\n"
     ]
    }
   ],
   "source": [
    "a= (input(\" enter the number \"))\n",
    "b=(input(\" enter the second number\"))\n",
    " \n",
    "if a>b and a<b:        ###OR\n",
    "   print ( \"5 year children  PHONE no allow danger \")\n",
    "elif a>=b or a>=b:   \n",
    "    print(\" phone no allow \")\n",
    "else:   \n",
    "    print(\"18 year boy allow phone\")"
   ]
  },
  {
   "cell_type": "code",
   "execution_count": 13,
   "metadata": {},
   "outputs": [
    {
     "name": "stdout",
     "output_type": "stream",
     "text": [
      "my nickname ford\n"
     ]
    }
   ],
   "source": [
    "if 67==78:\n",
    "    print( \"i am prashant\" )\n",
    "else:\n",
    "    print( \"my nickname ford\")    "
   ]
  },
  {
   "cell_type": "code",
   "execution_count": 27,
   "metadata": {},
   "outputs": [
    {
     "name": "stdout",
     "output_type": "stream",
     "text": [
      " {i am prashant} \n",
      "[hello]\n"
     ]
    }
   ],
   "source": [
    "if 67<88:\n",
    "    print(\" {i am prashant} \")\n",
    "    if 44>=4:\n",
    "        print( \"[hello]\")\n",
    "        if 46>=65:\n",
    "            print(\"anu\")\n",
    "elif 10==10:\n",
    "    print(\"enter the number\")\n",
    "elif 60<90 and 90>60:\n",
    "    print( \" enter the second numnber\")            \n",
    "else:\n",
    "    print( \"my nickname ford\")    "
   ]
  },
  {
   "cell_type": "code",
   "execution_count": 14,
   "metadata": {},
   "outputs": [
    {
     "name": "stdout",
     "output_type": "stream",
     "text": [
      " enter the second numnber\n"
     ]
    }
   ],
   "source": [
    "if 67<8:\n",
    "    print( \"i am prashant\" )\n",
    "    if 44>=4:\n",
    "        print( \"hello\")\n",
    "        if 46>=65:\n",
    "            print(\"anu\")\n",
    "elif 10==1:\n",
    "    print(\"enter the number\")\n",
    "elif 60<90 or 90>=60:\n",
    "    print( \" enter the second numnber\")            \n",
    "else:\n",
    "    print( \"my nickname ford\")    "
   ]
  },
  {
   "cell_type": "code",
   "execution_count": 21,
   "metadata": {},
   "outputs": [
    {
     "name": "stdout",
     "output_type": "stream",
     "text": [
      "my nickname ford\n"
     ]
    }
   ],
   "source": [
    "if 67<8:\n",
    "    print( \"i am prashant\" )\n",
    "    if 44>=4:\n",
    "        print( \"hello\")\n",
    "        if 46>=65:\n",
    "            print(\"anu\")\n",
    "        elif 10==1:\n",
    "         print(\"enter the number\")\n",
    "        elif 60==90 and 90>=10:\n",
    "          print( \" enter the second numnber\")            \n",
    "        elif a>b:\n",
    "            print( \"fuction\")\n",
    "else:\n",
    "    print( \"my nickname ford\")    "
   ]
  },
  {
   "cell_type": "code",
   "execution_count": null,
   "metadata": {},
   "outputs": [],
   "source": []
  }
 ],
 "metadata": {
  "kernelspec": {
   "display_name": "Python 3",
   "language": "python",
   "name": "python3"
  },
  "language_info": {
   "codemirror_mode": {
    "name": "ipython",
    "version": 3
   },
   "file_extension": ".py",
   "mimetype": "text/x-python",
   "name": "python",
   "nbconvert_exporter": "python",
   "pygments_lexer": "ipython3",
   "version": "3.11.4"
  },
  "orig_nbformat": 4
 },
 "nbformat": 4,
 "nbformat_minor": 2
}
