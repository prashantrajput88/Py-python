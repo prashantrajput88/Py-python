{
 "cells": [
  {
   "cell_type": "code",
   "execution_count": 1,
   "id": "05ec13b8",
   "metadata": {},
   "outputs": [],
   "source": [
    "def prashant():\n",
    " for i in range(5):\n",
    "    print(\"ok\")\n",
    "\n",
    " "
   ]
  },
  {
   "cell_type": "code",
   "execution_count": 2,
   "id": "12d0f768",
   "metadata": {},
   "outputs": [
    {
     "name": "stdout",
     "output_type": "stream",
     "text": [
      "ok\n",
      "ok\n",
      "ok\n",
      "ok\n",
      "ok\n"
     ]
    }
   ],
   "source": [
    "prashant()"
   ]
  },
  {
   "cell_type": "code",
   "execution_count": 3,
   "id": "dbf92afd",
   "metadata": {},
   "outputs": [],
   "source": [
    "def prashant():\n",
    " for i in range(2):\n",
    "    print(\"ok\")\n",
    "\n",
    " "
   ]
  },
  {
   "cell_type": "code",
   "execution_count": 4,
   "id": "1cc293d3",
   "metadata": {},
   "outputs": [
    {
     "name": "stdout",
     "output_type": "stream",
     "text": [
      "ok\n",
      "ok\n"
     ]
    }
   ],
   "source": [
    "prashant()"
   ]
  },
  {
   "cell_type": "code",
   "execution_count": 5,
   "id": "53f9df16",
   "metadata": {},
   "outputs": [],
   "source": [
    "def prashant2(a):\n",
    " for i in range(a):\n",
    "    print(\"ok\")\n",
    "\n",
    " "
   ]
  },
  {
   "cell_type": "code",
   "execution_count": 6,
   "id": "5d985fae",
   "metadata": {},
   "outputs": [
    {
     "name": "stdout",
     "output_type": "stream",
     "text": [
      "ok\n",
      "ok\n",
      "ok\n",
      "ok\n"
     ]
    }
   ],
   "source": [
    "prashant2(4)"
   ]
  },
  {
   "cell_type": "code",
   "execution_count": 7,
   "id": "55b11d8c",
   "metadata": {},
   "outputs": [
    {
     "ename": "TypeError",
     "evalue": "prashant() takes 0 positional arguments but 1 was given",
     "output_type": "error",
     "traceback": [
      "\u001b[1;31m---------------------------------------------------------------------------\u001b[0m",
      "\u001b[1;31mTypeError\u001b[0m                                 Traceback (most recent call last)",
      "Cell \u001b[1;32mIn[7], line 1\u001b[0m\n\u001b[1;32m----> 1\u001b[0m \u001b[43mprashant\u001b[49m\u001b[43m(\u001b[49m\u001b[38;5;241;43m9\u001b[39;49m\u001b[43m)\u001b[49m\n",
      "\u001b[1;31mTypeError\u001b[0m: prashant() takes 0 positional arguments but 1 was given"
     ]
    }
   ],
   "source": [
    "prashant(9)"
   ]
  },
  {
   "cell_type": "code",
   "execution_count": null,
   "id": "c88e8cd7",
   "metadata": {},
   "outputs": [],
   "source": [
    "def prashant2(a):\n",
    "    if type(a)==str:\n",
    "        print(\"invalid argument\")\n",
    "    else:        \n",
    "         for i in range(a):\n",
    "            print(\"ok\")\n",
    "\n",
    " "
   ]
  },
  {
   "cell_type": "code",
   "execution_count": null,
   "id": "b1a7ba39",
   "metadata": {},
   "outputs": [],
   "source": [
    "prashant2(\"lts go\")"
   ]
  },
  {
   "cell_type": "code",
   "execution_count": null,
   "id": "bb07c18e",
   "metadata": {},
   "outputs": [],
   "source": [
    "def prashant2(a):\n",
    "    if type(a)==str:\n",
    "        print(\"invalid argument\")\n",
    "    else:        \n",
    "        print(\"its right \")\n",
    "    for i in range(a):\n",
    "                print(\"ok\")\n",
    "\n",
    " "
   ]
  },
  {
   "cell_type": "code",
   "execution_count": null,
   "id": "004ea823",
   "metadata": {},
   "outputs": [],
   "source": [
    "prashant(\"its not service\")"
   ]
  },
  {
   "cell_type": "code",
   "execution_count": null,
   "id": "cb065079",
   "metadata": {},
   "outputs": [],
   "source": [
    "def intro():\n",
    "    print(\"i am prashant\")\n",
    "    print(\"An data scienlist\")\n",
    "    "
   ]
  },
  {
   "cell_type": "code",
   "execution_count": null,
   "id": "dca76e4c",
   "metadata": {},
   "outputs": [],
   "source": [
    "intro()"
   ]
  },
  {
   "cell_type": "code",
   "execution_count": null,
   "id": "771e5835",
   "metadata": {},
   "outputs": [],
   "source": [
    "def intro(a):\n",
    "    print(\"i am prashant\")\n",
    "    print(\"An data scienlist\")\n",
    "    "
   ]
  },
  {
   "cell_type": "code",
   "execution_count": null,
   "id": "ee0dcbf0",
   "metadata": {},
   "outputs": [],
   "source": [
    "intro(\"affection\")"
   ]
  },
  {
   "cell_type": "code",
   "execution_count": null,
   "id": "aa35ead8",
   "metadata": {},
   "outputs": [],
   "source": [
    "def intro ( name,designation):\n",
    "    print(\"i am {}\".format(name))\n",
    "    print(f\" An {designation}\")"
   ]
  },
  {
   "cell_type": "code",
   "execution_count": null,
   "id": "b44bc806",
   "metadata": {},
   "outputs": [],
   "source": [
    "intro"
   ]
  },
  {
   "cell_type": "code",
   "execution_count": null,
   "id": "fdb40910",
   "metadata": {},
   "outputs": [],
   "source": [
    "def intro ( name,designation):\n",
    "    print(\"i am {}\".format(name))\n",
    "    print(f\" An {designation}\")"
   ]
  },
  {
   "cell_type": "code",
   "execution_count": null,
   "id": "df633474",
   "metadata": {},
   "outputs": [],
   "source": [
    "intro(\"prashant\",\"ds\")"
   ]
  },
  {
   "cell_type": "code",
   "execution_count": null,
   "id": "4f924ae9",
   "metadata": {},
   "outputs": [],
   "source": [
    "intro(\"kaliya\",\"fs\")"
   ]
  },
  {
   "cell_type": "code",
   "execution_count": null,
   "id": "fcd9da0e",
   "metadata": {},
   "outputs": [],
   "source": [
    "intro()"
   ]
  },
  {
   "cell_type": "code",
   "execution_count": null,
   "id": "ea3590bf",
   "metadata": {},
   "outputs": [],
   "source": [
    "#postinal argument \n",
    "def intro ( name,designation=\"cyber\"):\n",
    "    print(\"i am {}\".format(name))\n",
    "    print(f\" An {designation}\")"
   ]
  },
  {
   "cell_type": "code",
   "execution_count": null,
   "id": "79a19246",
   "metadata": {},
   "outputs": [],
   "source": [
    "intro(\"shikar\")"
   ]
  },
  {
   "cell_type": "code",
   "execution_count": null,
   "id": "506fd6b9",
   "metadata": {},
   "outputs": [],
   "source": [
    "intro(\"shikar\",\"fs\")"
   ]
  },
  {
   "cell_type": "code",
   "execution_count": null,
   "id": "ac8c6549",
   "metadata": {},
   "outputs": [],
   "source": [
    "intro (\"will\",\"marking\")"
   ]
  },
  {
   "cell_type": "code",
   "execution_count": 2,
   "id": "64321e33",
   "metadata": {},
   "outputs": [],
   "source": [
    "def hum ( name=\"sikhar\" ,designation=\"data scienlist\"):\n",
    "    print(\"i am {}\".format(name))\n",
    "    print(f\" An {designation}\")"
   ]
  },
  {
   "cell_type": "raw",
   "id": "f2a6f43f",
   "metadata": {},
   "source": [
    "a=\"puj\""
   ]
  },
  {
   "cell_type": "code",
   "execution_count": 4,
   "id": "427b1d0b",
   "metadata": {},
   "outputs": [
    {
     "ename": "NameError",
     "evalue": "name 'a' is not defined",
     "output_type": "error",
     "traceback": [
      "\u001b[1;31m---------------------------------------------------------------------------\u001b[0m",
      "\u001b[1;31mNameError\u001b[0m                                 Traceback (most recent call last)",
      "Cell \u001b[1;32mIn[4], line 1\u001b[0m\n\u001b[1;32m----> 1\u001b[0m a\n",
      "\u001b[1;31mNameError\u001b[0m: name 'a' is not defined"
     ]
    }
   ],
   "source": [
    "a"
   ]
  },
  {
   "cell_type": "code",
   "execution_count": 89,
   "id": "cf8b8800",
   "metadata": {},
   "outputs": [
    {
     "name": "stdout",
     "output_type": "stream",
     "text": [
      "16\n"
     ]
    }
   ],
   "source": [
    "\n",
    "def will(a,b):\n",
    "    return(a*b)\n",
    "a=int(input(\"enter the number:\"))\n",
    "b=int(input(\"enter the second number:\"))\n",
    "print(a*b)\n",
    "       \n",
    "\n"
   ]
  },
  {
   "cell_type": "code",
   "execution_count": null,
   "id": "28ff1281",
   "metadata": {},
   "outputs": [],
   "source": []
  }
 ],
 "metadata": {
  "kernelspec": {
   "display_name": "Python 3 (ipykernel)",
   "language": "python",
   "name": "python3"
  },
  "language_info": {
   "codemirror_mode": {
    "name": "ipython",
    "version": 3
   },
   "file_extension": ".py",
   "mimetype": "text/x-python",
   "name": "python",
   "nbconvert_exporter": "python",
   "pygments_lexer": "ipython3",
   "version": "3.11.4"
  }
 },
 "nbformat": 4,
 "nbformat_minor": 5
}
